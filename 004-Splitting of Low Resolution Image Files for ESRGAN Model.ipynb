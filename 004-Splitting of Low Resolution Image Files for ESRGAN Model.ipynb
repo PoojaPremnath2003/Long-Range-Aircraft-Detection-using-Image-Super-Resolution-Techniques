{
 "cells": [
  {
   "cell_type": "code",
   "execution_count": 1,
   "id": "2f011c71",
   "metadata": {},
   "outputs": [],
   "source": [
    "import os\n",
    "import shutil\n",
    "\n",
    "# Specify the folder path and the number of folders\n",
    "folder_path = r\"C:\\Users\\pooja\\Desktop\\ESRGAN\\LR\"\n",
    "num_folders = 6\n",
    "\n",
    "# Create the new folders\n",
    "for i in range(1, num_folders + 1):\n",
    "    new_folder_path = os.path.join(folder_path, f\"Folder{i}\")\n",
    "    os.makedirs(new_folder_path, exist_ok=True)\n",
    "\n",
    "# Get the list of image files in the folder\n",
    "image_files = [file for file in os.listdir(folder_path) if os.path.isfile(os.path.join(folder_path, file))]\n",
    "\n",
    "# Calculate the approximate number of images per folder\n",
    "num_images_per_folder = len(image_files) // num_folders\n",
    "\n",
    "# Distribute the images among the folders\n",
    "for i, image_file in enumerate(image_files):\n",
    "    source_file_path = os.path.join(folder_path, image_file)\n",
    "    \n",
    "    if i % num_images_per_folder == 0 and i // num_images_per_folder < num_folders:\n",
    "        # Move to the next folder\n",
    "        current_folder = i // num_images_per_folder + 1\n",
    "    \n",
    "    new_file_path = os.path.join(folder_path, f\"Folder{current_folder}\", image_file)\n",
    "    shutil.move(source_file_path, new_file_path)\n"
   ]
  },
  {
   "cell_type": "code",
   "execution_count": null,
   "id": "407934a7",
   "metadata": {},
   "outputs": [],
   "source": []
  }
 ],
 "metadata": {
  "kernelspec": {
   "display_name": "Python 3 (ipykernel)",
   "language": "python",
   "name": "python3"
  },
  "language_info": {
   "codemirror_mode": {
    "name": "ipython",
    "version": 3
   },
   "file_extension": ".py",
   "mimetype": "text/x-python",
   "name": "python",
   "nbconvert_exporter": "python",
   "pygments_lexer": "ipython3",
   "version": "3.11.3"
  }
 },
 "nbformat": 4,
 "nbformat_minor": 5
}
